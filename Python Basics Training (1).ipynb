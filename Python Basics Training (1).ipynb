{
 "cells": [
  {
   "cell_type": "markdown",
   "id": "122c9b29",
   "metadata": {},
   "source": [
    "# Python Basics Training\n",
    "\n",
    "Welcome to Python!\n",
    "\n",
    "Python:\n",
    "\n",
    "* is an open-source programming language\n",
    "* is very popular for general-purpose programming\n",
    "    - Highly readable syntax, often reading like regular english\n",
    "* has a huge open source community, providing tools to perform almost any task\n",
    "* tends to be faster than R, but it is still an interpreted language. Compiled languages like C, Go, Rust, etc. will all generally perform faster than Python.\n",
    "\n",
    "There isn't one single \"RStudio\" IDE that is the go-to for writing python. There are 3 standout options at the Board:\n",
    "\n",
    "- Spyder, the Board has Spyder installed on SALT\n",
    "    - Versions Spyder Py3 and Spyder4 Py4, running python 3.7.7 and 3.8.8. respectively (but this rarely matters).\n",
    "    - Spyder5 runs the latest version of Python\n",
    "    - These are most similar to Rstudio.\n",
    "\n",
    "* Jupyter notebook\n",
    "   - The environment used to create this! Very similiar to R Markdown, allowing for markdown to help explain your code as you go.\n",
    "         * Able to run chunks of code, potentially in any order.\n",
    "         * File is named `.ipynb` from `.py` (analogous to `.R` -> `.Rmd`, between R and R Markdown).\n",
    "         * Can be exported to html for embedding in other web products.\n",
    "         * To open, call `jupyter3 notebook` or `jupyter3 lab` in the linux console inside the directory what you want to work with.\n",
    "\n",
    "* VS Code\n",
    "    - Available both on Linux and Windows\n",
    "    - Is a text editor which means that you can open most scripts in it such as `.inp` files\n",
    "        - Also means that as long as you install the right extension and interpreter you can write in almost any language in it.\n",
    "    - A lot of customizability and easy to install extensions\n",
    "    - Capable of working with `.py` and `ipynb` scripts\n",
    "    - Can work in the browser https://vscode.dev/ (not recommended)\n",
    "    \n",
    "### Helpful Jupyter Notebook Shortcuts\n",
    "\n",
    "\n",
    "* `ctrl + enter`: runs the code in the current cell\n",
    "* `shift + enter`: runs the code in the current cell and jumps to the cell below it or creates a new cell below it if there is not yet a cell below\n",
    "* `esc -> b`: creates a new cell below the current cell (b for below)\n",
    "* `esc -> a`: creates a new cell above the current cell (a for above)\n",
    "* `esc -> dd`: deletes the current cell\n",
    "* `esc -> h`: opens a list of many jupyter notebook shortcuts"
   ]
  },
  {
   "cell_type": "markdown",
   "id": "c293d572",
   "metadata": {},
   "source": [
    "# 1 Basic Datatypes\n",
    "\n",
    "These are some of the datatypes that can be used within Python. They each represent information in different ways. Typically, most mainstream languages have each of these in some form with some naming differences. "
   ]
  },
  {
   "cell_type": "code",
   "execution_count": null,
   "id": "75a429c7",
   "metadata": {},
   "outputs": [],
   "source": [
    "string_example = \"I am a string\"\n",
    "\n",
    "integer_example = 7\n",
    "\n",
    "float_example = 7.49\n",
    "\n",
    "boolean_example = True\n",
    "\n",
    "list_example = [7,7.49,\"I am a string\",True]\n",
    "\n",
    "tuple_example = (1,2,3)\n",
    "\n",
    "dictionary_example = {\n",
    "    \"float_example\":7.49,\n",
    "    \"string_example\":\"I am a string\",\n",
    "    \"boolean_example\":True,\n",
    "    \"list_example\":list_example\n",
    "    }\n",
    "\n",
    "# Type the variable that you want to print between the ()\n",
    "print(tuple_example)"
   ]
  },
  {
   "cell_type": "markdown",
   "id": "0faf0145",
   "metadata": {},
   "source": [
    "## 1.1 Strings"
   ]
  },
  {
   "cell_type": "markdown",
   "id": "ae9b30c2",
   "metadata": {},
   "source": [
    "Python only has one type for strings: `str`. All text are strings. There is no `char` type for a single character.\n",
    "\n",
    "Create a string by either `'text here'` `\"text here\"`, `'''text here'''`, or `\"\"\"text here\"\"\"`. Single quotes or double quotes can be used, as long as you start and end the string with the same one.\n",
    "\n",
    "For example:"
   ]
  },
  {
   "cell_type": "code",
   "execution_count": null,
   "id": "451b2af0",
   "metadata": {},
   "outputs": [],
   "source": [
    "print(\"I am a string\")\n",
    "print('''I am also a string''')"
   ]
  },
  {
   "cell_type": "markdown",
   "id": "b26add25",
   "metadata": {},
   "source": [
    "You can define a string over multiple lines using the triple-quote syntax, useful for things like SQL queries:"
   ]
  },
  {
   "cell_type": "code",
   "execution_count": null,
   "id": "de7e34bf",
   "metadata": {},
   "outputs": [],
   "source": [
    "my_hadoop_query = \"\"\"SELECT *\n",
    "    FROM if_optionsmetrics.europe_opprc op\n",
    "    LEFT JOIN if_optionsmetrics.europe_opinf ec\n",
    "    ON op.securityid = ec.securityid\n",
    "        AND op.exchange = ec.exchange\n",
    "        AND op.optionid = ec.optionid\n",
    "    WHERE op.securityid = 712879\n",
    "        AND op.tabledate > 20220101\n",
    "        AND ec.expiration < 20250101\n",
    "        AND abs(op.delta) BETWEEN .4 AND .6\n",
    "        AND op.impliedvolatility > 0\n",
    "    ORDER BY op.tabledate\n",
    "    \"\"\"\n",
    "print(my_hadoop_query)"
   ]
  },
  {
   "cell_type": "markdown",
   "id": "df52f39e",
   "metadata": {},
   "source": [
    "### 1.1.1 Common Basic String Operations"
   ]
  },
  {
   "cell_type": "markdown",
   "id": "7c3cb00e",
   "metadata": {},
   "source": [
    "Manipulating strings is intutitive in python!\n",
    "\n",
    "* `+`: Concatenation (`\"hel\" + \"lo\"` returns `\"hello\"`)\n",
    "* `*` : repetition (`'3' * 3` returns `'333'`)\n",
    "* `string_name[...]` indexing (`'hello'[0]` returns `'h'`)\n",
    "\n",
    "A convenient feature is the f-string, which stands for **formatted string literals**. The idea is that we want to substitute variables or the results code inside of our string (i.e. interpolate) without writing code that looks like `\"...\" + \"...\" + \"...\"` (which works; though it can get really hard to read), but rather something that looks like we're filling out a template."
   ]
  },
  {
   "cell_type": "code",
   "execution_count": null,
   "id": "822584c4",
   "metadata": {},
   "outputs": [],
   "source": [
    "name_of_file = \"filename.txt\"\n",
    "fstring = f\"/path/to/this/data/{name_of_file}\"\n",
    "regular_string = \"/path/to/this/data/\" + name_of_file\n",
    "print(fstring)\n",
    "print(regular_string)\n",
    "# Now imagine if we wanted to interpolate in the middle of the string!\n",
    "\n",
    "var1 = 1\n",
    "var2 = 3\n",
    "fstring = f\"the sum of var1 and var2 is {var1 + var2}\"\n",
    "print(fstring)"
   ]
  },
  {
   "cell_type": "markdown",
   "id": "afd92d0a",
   "metadata": {},
   "source": [
    "Some common methods on strings:\n",
    "\n",
    "* `s.replace(\"!\", \"?\")`: Return a new string where `!` is replaced with `?`.\n",
    "\n",
    "* `s.lower()`: Return a new string, which is the lowercase version of `s`. Example: `\"HELLO\".lower() == \"hello\"`\n",
    "\n",
    "* `s.strip()`: Return a new string, where leading and trailing whitespace have been trimmed off. `Example: \"  hello! \".strip() == \"hello!\"`\n",
    "\n",
    "* `s.zfill(n):`: Return a new string, zero-padded on the left up to `n` digits. For example, `\"1\".zfill(2) == \"01\"`. This can be useful for accessing files named after dates, for example.\n",
    "\n",
    "Let's test a replacement:"
   ]
  },
  {
   "cell_type": "code",
   "execution_count": null,
   "id": "e84fbcd3",
   "metadata": {},
   "outputs": [],
   "source": [
    "s = \"Hi!\"\n",
    "print(s.replace(\"!\", \"?\"))\n",
    "print(s)"
   ]
  },
  {
   "cell_type": "markdown",
   "id": "9b171d2a",
   "metadata": {},
   "source": [
    "Notice that, after calling the `replace` method on `s`, the change was \"reverted\" (more accurately, it was never stored back into `s`!). The `replace` method actually returns a **new copy** of the string, with the modifications made. That is, it does not overwrite `s`, but returns an entirely new string."
   ]
  },
  {
   "cell_type": "code",
   "execution_count": null,
   "id": "ba87d88e",
   "metadata": {},
   "outputs": [],
   "source": [
    "s_replaced = s.replace(\"!\", \"?\")\n",
    "print(s_replaced)"
   ]
  },
  {
   "cell_type": "markdown",
   "id": "4034a5bb",
   "metadata": {},
   "source": [
    "## 1.2 Integers and Floats"
   ]
  },
  {
   "cell_type": "code",
   "execution_count": null,
   "id": "8c3bab5f",
   "metadata": {},
   "outputs": [],
   "source": [
    "print(f\"Addition: {2 + 3}\")\n",
    "\n",
    "print(f\"Subtraction: {5.5 - 3.3}\")\n",
    "\n",
    "print(f\"Multiplication: {2 * 3}\")\n",
    "\n",
    "print(f\"Division: {6 / 3}\")\n",
    "\n",
    "print(f\"Floor Divison: {7 // 3}\") # Same as division, but discards remainders\n",
    "\n",
    "print(f\"Exponents: {2 ** 3}\")\n",
    "\n",
    "print(f\"Modulus: {7 % 3}\") # Returns the remainder of 7 / 3\n",
    "\n",
    "print(f\"Scientific Notation: {1e-4}\")\n",
    "\n",
    "print(f\"Absolute Value: {abs(-0.4827)}\")"
   ]
  },
  {
   "cell_type": "markdown",
   "id": "8fb9ed19",
   "metadata": {},
   "source": [
    "## 1.3 Boolean/Conditionals\n",
    "\n",
    "Boolean variables work very similarly to how they do in R (and most other programming languages).\n",
    "\n",
    "Conditional statements based on these types work as you expect but instead of enclosing the logic with curly braces `{ }` you simply indent the line (read: **indentation matters in Python**)"
   ]
  },
  {
   "cell_type": "code",
   "execution_count": null,
   "id": "369e05f8",
   "metadata": {},
   "outputs": [],
   "source": [
    "x = True\n",
    "y = False\n",
    "\n",
    "# Example 1\n",
    "if x:\n",
    "    print('x is True.')\n",
    "\n",
    "# Example 2\n",
    "if x:\n",
    "    print('x is True, not False.')\n",
    "else:\n",
    "    print('x is False, not True.')\n",
    "\n",
    "# Example 3\n",
    "if x and y:\n",
    "    print('x and y is True.')\n",
    "else:\n",
    "    print('x and y is False.')\n",
    "\n",
    "# Example 4\n",
    "if x or y:\n",
    "    print('x or y is True.')\n",
    "else:\n",
    "    print('Both x and y are False.')\n",
    "\n",
    "# Example 5\n",
    "if not y:\n",
    "    print(\"not y is True, therefore y is False\")"
   ]
  },
  {
   "cell_type": "markdown",
   "id": "d8028946",
   "metadata": {},
   "source": [
    "In table form:\n",
    "\n",
    "| x     | y     | x and y | x or y |\n",
    "|-------|-------|---------|--------|\n",
    "| True  | True  | True    | True   |\n",
    "| True  | False | False   | True   |\n",
    "| False | True  | False   | True   |\n",
    "| False | False | False   | False  |\n",
    "\n",
    "The `not` operator reverses the value of a boolean variable. So `not True == False` and `not False == True`.\n",
    "\n",
    "\n",
    "We also have `elif`, which stands for `else if`. As soon as one of these conditions triggers, that will break you out of the entire `if/else` block. Try changing the `elif` to `if` in the cell below. Can you see what happens, and why?"
   ]
  },
  {
   "cell_type": "code",
   "execution_count": null,
   "id": "34c1ab1a",
   "metadata": {},
   "outputs": [],
   "source": [
    "grade = 80.8\n",
    "\n",
    "if grade >= 90:\n",
    "    letter = \"A\"\n",
    "elif grade >= 80:\n",
    "    letter = \"B\"\n",
    "elif grade >= 70:\n",
    "    letter = \"C\"\n",
    "else:\n",
    "    letter = \"F\"\n",
    "\n",
    "print(f\"Grade {grade} translates to letter grade {letter}.\")"
   ]
  },
  {
   "cell_type": "markdown",
   "id": "8adc7a40",
   "metadata": {},
   "source": [
    "## 1.4 Lists\n",
    "\n",
    "Lists are one of the most important objects in Python, similar to what an array would be in other languages. They hold a collection of other objects.\n",
    "\n",
    "Indexing starts at 0, so the final index of a list of `n` elements will always end on an index equal to `n-1`. "
   ]
  },
  {
   "cell_type": "code",
   "execution_count": null,
   "id": "4a90ae52",
   "metadata": {},
   "outputs": [],
   "source": [
    "example_list = [\"Justin\", \"John\", \"Jerry\"]\n",
    "\n",
    "print(f\"Size of List: {len(example_list)}\")\n",
    "print(f\"Second element of List: {example_list[1]}\")"
   ]
  },
  {
   "cell_type": "code",
   "execution_count": null,
   "id": "33c12c66",
   "metadata": {},
   "outputs": [],
   "source": [
    "# Appending to a list\n",
    "print(\"------------ First way to Append ------------\")\n",
    "print(example_list + [\"Julia\"]) # This returns a new list -- it does not modify the existing list!\n",
    "\n",
    "example_list.append(\"Julia\") # This method modifies the existing list.\n",
    "print(\"------------ Second way to Append ------------\")\n",
    "print(example_list)"
   ]
  },
  {
   "cell_type": "markdown",
   "id": "08fef843",
   "metadata": {},
   "source": [
    "Mutability is a property that means an object can be altered in-place. Most \"atomic\" Python types (`int`,`float`,`str` ...) are immuatable. So, when you reassign a variable (declaring `x=5` and later declaring `x = 3`), it is not actually stored at the same location in memory.\n",
    "\n",
    "Lists, however, are mutable. This has to do with how they are stored under the hood, but generally remember: if you apply a method on a list, it may (and usually will) change the list, **even if you don't reassign anything**."
   ]
  },
  {
   "cell_type": "code",
   "execution_count": null,
   "id": "9b53f76c",
   "metadata": {},
   "outputs": [],
   "source": [
    "# Mutability\n",
    "example = [0, 1, 2]\n",
    "print(f\"Before applying methods: {example}\")\n",
    "example[1] = 3 # Changes second element to 3\n",
    "example.append(4) # Does not return anything; changes example object to have a 4th element = 4\n",
    "\n",
    "print(f\"After applying methods: {example}\")"
   ]
  },
  {
   "cell_type": "code",
   "execution_count": null,
   "id": "40b3c37d",
   "metadata": {},
   "outputs": [],
   "source": [
    "# Mutability part 2\n",
    "x = [0, 1, 2]\n",
    "y = x # y points to the same place in memory as x\n",
    "x.append(3)\n",
    "\n",
    "# Appending to x appended to both!\n",
    "print(f\"x: {x}\")\n",
    "print(f\"y: {y}\")"
   ]
  },
  {
   "cell_type": "code",
   "execution_count": null,
   "id": "dd134c4b",
   "metadata": {},
   "outputs": [],
   "source": [
    "# Slicing\n",
    "print(f\"Slice of a List: {example_list[0:2]}\")"
   ]
  },
  {
   "cell_type": "code",
   "execution_count": null,
   "id": "3e38fab9",
   "metadata": {},
   "outputs": [],
   "source": [
    "# Combining Lists\n",
    "first_list = [1,2,3]\n",
    "second_list = [5,6,7]\n",
    "print(first_list + second_list)"
   ]
  },
  {
   "cell_type": "code",
   "execution_count": null,
   "id": "b2791ac1",
   "metadata": {},
   "outputs": [],
   "source": [
    "# Check if an element is in a list\n",
    "my_list = [1, 3, 4, 10]\n",
    "print(3 in my_list)\n",
    "print(7 in my_list)"
   ]
  },
  {
   "cell_type": "code",
   "execution_count": null,
   "id": "86b6ef9b",
   "metadata": {},
   "outputs": [],
   "source": [
    "# Get the length of a list\n",
    "my_list = [1, 5, 7, 10, 11]\n",
    "print(f\"Length of my_list: {len(my_list)}\")"
   ]
  },
  {
   "cell_type": "markdown",
   "id": "91e01be2",
   "metadata": {},
   "source": [
    "## 1.5 Dictionaries\n",
    "\n",
    "A formal definition of a a dictionary is a set of key-value pairs (also known more broadly as hash tables or hash maps). These are asymptotically very efficient as lookup tables, and they act similarly to **lists** in R. It should be noted that hash tables or dictionaries by default are not sorted in any way. \n",
    "\n",
    "> You can utilize the [Collections](https://docs.python.org/3/library/collections.html) package to create dictionaries that are sorted based off their order of insertion. "
   ]
  },
  {
   "cell_type": "code",
   "execution_count": null,
   "id": "11348743",
   "metadata": {},
   "outputs": [],
   "source": [
    "simple_dict = {\n",
    "    \"key\" : \"value\",\n",
    "    \"key2\" : \"value2\",\n",
    "    \"key3\" : \"value3\"\n",
    "}\n",
    "\n",
    "# Get the value for a specific key\n",
    "print(simple_dict['key2'])\n",
    "\n",
    "# Add a new key-value pair to the dictionary\n",
    "simple_dict[\"new_key\"] = \"new_value\"\n",
    "print(simple_dict)"
   ]
  },
  {
   "cell_type": "code",
   "execution_count": null,
   "id": "a7b6c0ed",
   "metadata": {},
   "outputs": [],
   "source": [
    "# Print all Keys\n",
    "print(simple_dict.keys())\n",
    "\n",
    "# Print all Values\n",
    "print(simple_dict.values())"
   ]
  },
  {
   "cell_type": "markdown",
   "id": "2c26515c",
   "metadata": {},
   "source": [
    "**Exercise:** Use the following `params` dictionary to print a string in the format specified below. \n",
    "\n",
    "a. Compute the following in python:\n",
    "$$\n",
    "    \\frac{(alpha * beta + gamma)^2}{discount\\_rate}\n",
    "$$\n",
    "\n",
    "b. Print out the computed value in a string with the format `\"Example Calculation = Value from a.\"`"
   ]
  },
  {
   "cell_type": "code",
   "execution_count": null,
   "id": "2097d74b",
   "metadata": {},
   "outputs": [],
   "source": [
    "\"\"\"\n",
    "Write answer to exercise in this cell block\n",
    "\"\"\"\n",
    "\n",
    "params = {\n",
    "    \"alpha\" : 1,\n",
    "    \"beta\" : 2.55,\n",
    "    \"gamma\" : 0.3,\n",
    "    \"discount_rate\" : 0.95\n",
    "}\n",
    "\n",
    "# part a\n",
    "\n",
    "# part b"
   ]
  },
  {
   "cell_type": "markdown",
   "id": "82b3d9a0",
   "metadata": {},
   "source": [
    "A common pattern you may see is, rather than accessing an element with `d[\"key\"]`, you will see it accessed as `d.get(\"key\", some_default_value)`. The `.get` method works the same way as accessing an item with `d[\"key\"]`, but returns a specified default value if the item doesn't exist. Usually, this is `None`, but other defaults can be useful, for example, in applications where you need to translate specific mnemonics between data sources."
   ]
  },
  {
   "cell_type": "code",
   "execution_count": null,
   "id": "d407bc54",
   "metadata": {},
   "outputs": [],
   "source": [
    "# Try changing this to \"alpha\". Also try changing the default value!\n",
    "test_value = params.get(\"xi\", None)\n",
    "print(test_value)"
   ]
  },
  {
   "cell_type": "markdown",
   "id": "f6570e2d",
   "metadata": {},
   "source": [
    "## 1.6 Tuples\n",
    "\n",
    "As an honorable mention, the tuple is an immutable version of a list. Tuples don't come up much as, but are used as the return object for many functions. Bonus points: they can be hashed! (don't worry if you don't know what this means). We won't cover them in detail, but they do exist!"
   ]
  },
  {
   "cell_type": "code",
   "execution_count": null,
   "id": "13bbc177",
   "metadata": {},
   "outputs": [],
   "source": [
    "# Create a tuple using the () literal\n",
    "test_tuple = (1,2,3)"
   ]
  },
  {
   "cell_type": "markdown",
   "id": "75c4eb6a",
   "metadata": {},
   "source": [
    "# 2 Loops"
   ]
  },
  {
   "cell_type": "markdown",
   "id": "add7d729",
   "metadata": {},
   "source": [
    "## 2.1 For\n",
    "\n",
    "Python has the expected loops (for, while) as a means for iteration."
   ]
  },
  {
   "cell_type": "code",
   "execution_count": null,
   "id": "cce946e6",
   "metadata": {},
   "outputs": [],
   "source": [
    "# Access elements in a list\n",
    "cc_list = [\"us\", \"eu\", \"ca\"]\n",
    "for i in range(0,3): # Remember that the second number is not included in the range.\n",
    "    print(cc_list[i])"
   ]
  },
  {
   "cell_type": "code",
   "execution_count": null,
   "id": "5075302c",
   "metadata": {},
   "outputs": [],
   "source": [
    "# Another way to access elements in a list\n",
    "cc_list = [\"us\", \"eu\", \"ca\"]\n",
    "for i in cc_list:\n",
    "    print(i)"
   ]
  },
  {
   "cell_type": "code",
   "execution_count": null,
   "id": "6d9c04ea",
   "metadata": {},
   "outputs": [],
   "source": [
    "# If you wanted to access the list elements and indices\n",
    "cc_list = [\"us\", \"eu\", \"ca\"]\n",
    "for index, i in enumerate(cc_list):\n",
    "    print(f\"index: {index}, country: {i}\")"
   ]
  },
  {
   "cell_type": "code",
   "execution_count": null,
   "id": "d4a66585",
   "metadata": {},
   "outputs": [],
   "source": [
    "country_list = [\"United States\", \"United Kingdom\", \"Spain\"]\n",
    "gini_list = [1.05,2.10,3.30]\n",
    "\n",
    "for x, y in zip(country_list, gini_list):\n",
    "    print(f\"Country: {x}, Gini Index: {y}\")"
   ]
  },
  {
   "cell_type": "code",
   "execution_count": null,
   "id": "b10c5585",
   "metadata": {},
   "outputs": [],
   "source": [
    "# Sometimes it's helpful to just iterate over the length of a list. Here's how to do that.\n",
    "# Same as the first example, without hard-coding the length of the list\n",
    "names = [\"John\", \"Jane\", \"Jacob\"]\n",
    "for i in range(len(names)):\n",
    "    print(f\"{names[i]} is at index {i}.\")"
   ]
  },
  {
   "cell_type": "markdown",
   "id": "eb65109f",
   "metadata": {},
   "source": [
    "## 2.2 While\n",
    "\n",
    "A `while` loop will iterate until its condition is no longer `True`. Make sure you have a stopping condition! You can create infinite loops if you don't."
   ]
  },
  {
   "cell_type": "code",
   "execution_count": null,
   "id": "921ca4a7",
   "metadata": {},
   "outputs": [],
   "source": [
    "# Simple Example\n",
    "name_list = [\"Alice\", \"David\", \"George\"]\n",
    "\n",
    "index = 0\n",
    "\n",
    "while index < len(name_list):\n",
    "    print(name_list[index])\n",
    "    index += 1"
   ]
  },
  {
   "cell_type": "code",
   "execution_count": null,
   "id": "2a4fa55d",
   "metadata": {},
   "outputs": [],
   "source": [
    "number = 104\n",
    "while True:\n",
    "    print(f\"Current Number: {number}\")\n",
    "    # Recall from 1.2 that this is modulous\n",
    "    if number % 3 == 0:\n",
    "        break # Terminates the loop\n",
    "    else:\n",
    "        # Recall from 1.2 that this is floor division\n",
    "        number //= 3"
   ]
  },
  {
   "cell_type": "markdown",
   "id": "42a46144",
   "metadata": {},
   "source": [
    "**Exercise:**\n",
    "\n",
    "Use the following `value_dict` dictionary and parameters to solve a toy optimization problem. Using `parameter_1` and `parameter_2`, update your guess for `parameter_2` until `parameter_1 ** parameter_2 == act_val` by iterating until you find a value of `parameter_2` with an acceptable error (tolerance). Follow the steps below to accomplish this:\n",
    "\n",
    "a. Create two variables called `param_1` and `param_2` to store the values associated with the keys `parameter_1` and `parameter_2`, respectively.\n",
    "\n",
    "b. Initialize the error and iteration count:\n",
    "* Set error to a value greater than tolerance (e.g., error = 100).\n",
    "* Set count to 0.\n",
    "\n",
    "c. Follow these steps to find the optimal value:\n",
    "1. While the error is greater than the tolerance and iterations less than the max_iterations repeat the below steps.\n",
    "2. Calculate the estimated value: `estim_val = param_1 ** param_2`. \n",
    "3. Find the error which is the absolute difference between the estimated and actual value.\n",
    "4. Update `param_2` by adding 0.01.\n",
    "5. Increment `count` by 1\n",
    "6. If `count` is divisible by 50 fill in the #### and print out the following statement: \n",
    "    * \"Iteration: ####, Error: ####\""
   ]
  },
  {
   "cell_type": "code",
   "execution_count": null,
   "id": "98e3ccbd",
   "metadata": {},
   "outputs": [],
   "source": [
    "\"\"\"\n",
    "Write answer to exercise in this cell block\n",
    "\"\"\"\n",
    "\n",
    "value_dict = {\n",
    "    \"act_val\" : 1000,\n",
    "    \"parameter_1\" : 1000,\n",
    "    \"parameter_2\" : 0.01\n",
    "}\n",
    "\n",
    "tolerance = 1e-10\n",
    "max_iterations = 10000"
   ]
  },
  {
   "cell_type": "code",
   "execution_count": null,
   "id": "6777b2fb",
   "metadata": {},
   "outputs": [],
   "source": [
    "\"\"\"\n",
    "SOLUTION BELOW\n",
    "SOLUTION BELOW\n",
    "SOLUTION BELOW\n",
    "SOLUTION BELOW\n",
    "SOLUTION BELOW\n",
    "SOLUTION BELOW\n",
    "SOLUTION BELOW\n",
    "SOLUTION BELOW\n",
    "SOLUTION BELOW\n",
    "SOLUTION BELOW\n",
    "SOLUTION BELOW\n",
    "SOLUTION BELOW\n",
    "SOLUTION BELOW\n",
    "SOLUTION BELOW\n",
    "SOLUTION BELOW\n",
    "SOLUTION BELOW\n",
    "SOLUTION BELOW\n",
    "SOLUTION BELOW\n",
    "\"\"\""
   ]
  },
  {
   "cell_type": "code",
   "execution_count": null,
   "id": "e30b1b81",
   "metadata": {},
   "outputs": [],
   "source": [
    "value_dict = {\n",
    "    \"act_val\" : 1000,\n",
    "    \"parameter_1\" : 1000,\n",
    "    \"parameter_2\" : 0.01\n",
    "}\n",
    "\n",
    "tolerance = 1e-10\n",
    "max_iterations = 10000\n",
    "\n",
    "error = 100\n",
    "iter_count = 0\n",
    "param_1 = value_dict[\"parameter_1\"]\n",
    "param_2 = value_dict[\"parameter_2\"]\n",
    "\n",
    "while error > tolerance and iter_count <= max_iterations:\n",
    "    estim_val = param_1 ** param_2\n",
    "    error = abs(estim_val - value_dict[\"act_val\"])\n",
    "    param_2 += 0.01\n",
    "    iter_count += 1\n",
    "    if iter_count % 50 == 0:\n",
    "        print(f\"Iteration: {iter_count}, Error: {error}\")\n",
    "\n",
    "print(f\"Final Error: {error}, Parameter 2 Value: {param_2}\")"
   ]
  },
  {
   "cell_type": "markdown",
   "id": "e4e52aa5",
   "metadata": {},
   "source": [
    "# 3 Functions, Methods, and Scope\n",
    "\n",
    "Functions are the same in Python as they are in other languages. That is, they are reusable bits of code that take input(s), operate on them, and `return` an output. Think of a function in math: $f(x) = x^2$ is a function named $f$ that takes an input $x$ and returns an output $x^2$. Similar to math, a function can have multiple inputs (and even return multiple things, though we won't cover that here). We often call inputs **arguments** to that function, or `args` for short.\n",
    "\n",
    "The distinction between a **function** and a **method** is simple: a **method** is attached to a specific **data type**, often called with `object_name.method(input1, input2, ...)`. Think back to the `replace()` method on strings and `append()` on lists. We won't cover how to create your own types with attached methods, but understanding the distinction between functions and methods is important to understanding how Python works.\n",
    "\n",
    "**Functions**, on the other hand, are called with the syntax `function_name(input1, input2, ...)`. Notice the lack of the `.` syntax!\n",
    "\n",
    "## 3.1 Methods\n",
    "\n",
    "Methods are functions that are defined on a class. All data types in Python are also called classes. Classes consist of attributes and methods.\n",
    "\n",
    "* **Attributes** are values assigned to specific instance of a class\n",
    "    - Value for `int` might be `1`.\n",
    "    - Length of `list` might be `15`.\n",
    "\n",
    "* **Methods** are functions that classes are constructed to apply to their value and provide other functionality specific to that type\n",
    "    - Instances of the `str` type have many methods that perform tasks such as filtering, find and replace, and truncating leading/trailing characters -- many of which we covered earlier"
   ]
  },
  {
   "cell_type": "markdown",
   "id": "d3a20e07",
   "metadata": {},
   "source": [
    "#### Examples of Methods as a dog\n",
    "\n",
    "If we think of a dog:\n",
    "\n",
    "\n",
    "The attributes would be things that describe the dog.\n",
    "\n",
    "* name\n",
    "* breed\n",
    "* fur color\n",
    "\n",
    "The methods act like verbs, things that the dog can do on its own.\n",
    "\n",
    "* run\n",
    "* jump\n",
    "* sleep\n",
    "\n",
    "This becomes clearer the more you use them. Remember, in Python, **methods** are called by `object_name.method()`, as opposed to functions, which are covered next."
   ]
  },
  {
   "cell_type": "markdown",
   "id": "c4f1ec60",
   "metadata": {},
   "source": [
    "### 3.2 Functions"
   ]
  },
  {
   "cell_type": "markdown",
   "id": "89defd3c",
   "metadata": {},
   "source": [
    "Functions work just like methods, but generally don't need to be associated with a class. Define a function with\n",
    "\n",
    "```python\n",
    "def function_name(argument1, argument2, ...):\n",
    "    \"\"\"\n",
    "    A docstring, which is a description in text of what the function does\n",
    "    \"\"\"\n",
    "    # do some operations\n",
    "    result = some_operation(argument1, argument2, ...)\n",
    "    return result\n",
    "```"
   ]
  },
  {
   "cell_type": "code",
   "execution_count": null,
   "id": "476c339b",
   "metadata": {},
   "outputs": [],
   "source": [
    "def my_func(x, y):\n",
    "    if x > y:\n",
    "        return \"x is greater than y\"\n",
    "    elif y > x:\n",
    "        return \"y is greater than x\"\n",
    "    else:\n",
    "        return \"y is equal to x\"\n",
    "\n",
    "# Arguments will take the same order as the function definition by default\n",
    "# These are called positional arguments\n",
    "print(my_func(1, 3))\n",
    "\n",
    "# We can also name the specific values of each argument, called using keyword arguments\n",
    "# In Python, we often call these kwargs for short\n",
    "print(my_func(x=2, y=1))\n",
    "\n",
    "# When using keyword arguments, order doesn't matter\n",
    "print(my_func(y=2, x=1))"
   ]
  },
  {
   "cell_type": "code",
   "execution_count": null,
   "id": "9f9d4cbc",
   "metadata": {},
   "outputs": [],
   "source": [
    "# But be careful! Look what happens when you specify a keyword argument before a positional argument\n",
    "print(my_func(y=2, 1))"
   ]
  },
  {
   "cell_type": "code",
   "execution_count": null,
   "id": "3d81dee9",
   "metadata": {},
   "outputs": [],
   "source": [
    "# Positional arguments should always go before keyword arguments.\n",
    "print(my_func(1, y=2))"
   ]
  },
  {
   "cell_type": "markdown",
   "id": "1b03336a",
   "metadata": {},
   "source": [
    "Functions can also have default values\n",
    "\n",
    "```python\n",
    "def my_function(arg1, arg2 = 10, arg3 = \"Hi mom!\"):\n",
    "    pass\n",
    "```"
   ]
  },
  {
   "cell_type": "code",
   "execution_count": null,
   "id": "95ecb499",
   "metadata": {},
   "outputs": [],
   "source": [
    "def add_numbers(a, b = 10):\n",
    "    \"\"\"Adds two integers, a and b.\"\"\"\n",
    "    return a + b\n",
    "\n",
    "print(add_numbers(5, 5))\n",
    "print(add_numbers(5, 10))\n",
    "print(add_numbers(5))"
   ]
  },
  {
   "cell_type": "markdown",
   "id": "d05e8463",
   "metadata": {},
   "source": [
    "Python is a dynamically typed language, which means that functions can be defined to work on any type. This is nice for developing quickly, since you often don't need to think about what type things are and encode that into your functions. However, you do have the option of providing **type annotations** (also called **type hints**) in your function definitions, which can make your code a lot easier to read and collaborate on:"
   ]
  },
  {
   "cell_type": "code",
   "execution_count": null,
   "id": "4580f9ea",
   "metadata": {},
   "outputs": [],
   "source": [
    "# The type hint reads: this function takes 2 integers, with 1 default, and returns another integer\n",
    "def add_numbers(a: int, b: int = 10) -> int:\n",
    "    \"\"\"Adds two integers, a and b.\"\"\"\n",
    "    return a + b\n",
    "\n",
    "print(add_numbers(5,5))"
   ]
  },
  {
   "cell_type": "markdown",
   "id": "eb05bd63",
   "metadata": {},
   "source": [
    "Some languages will enforce these argument and return types. Without any external tools, this is purely cosmetic in Python, but it helps communicate exactly what the function is trying to do, allows IDEs to provide better autocomplete suggestions, and oftentimes even catch errors before running your code!"
   ]
  },
  {
   "cell_type": "markdown",
   "id": "e4e4e0c1",
   "metadata": {},
   "source": [
    "**Exercise:**\n",
    "Create a function `sum_list` that takes a list of numbers as input and returns the sum of those numbers. Try writing it using a `for` loop. Bonus points: add type annotations!\n",
    "\n",
    "Run this function on `num_list` and verify that the output is 272."
   ]
  },
  {
   "cell_type": "code",
   "execution_count": null,
   "id": "b4b46d60",
   "metadata": {},
   "outputs": [],
   "source": [
    "\"\"\"\n",
    "Write answer to exercise in this cell block\n",
    "\"\"\"\n",
    "num_list = [1,2,9,40,220]"
   ]
  },
  {
   "cell_type": "markdown",
   "id": "5e6d70d8",
   "metadata": {},
   "source": [
    "## 3.3 Scope\n",
    "\n",
    "Scope is where a variable's binding to a value is active within the program. A variable with _global_ scope is a variable whose binding is active in all lower scopes. Lower scopes will usually include the scope within your user defined functions. \n",
    "\n",
    "> It's good practice to treat global variables as constants, i.e. variables that never change throughout the execution of your code, even though you can alter the value of these global variables in lower scopes. It is common practice to define global variables using SCREAMING_SNAKE_CASE syntax at the top of your script.\n",
    "\n",
    "A good example of using a global variable as a constant would be the main directory (`MAIN_DIR`) of a project in a python script which should never change, and can thus be accessed in your functions, instead of having to pass it in as a formal parameter."
   ]
  },
  {
   "cell_type": "code",
   "execution_count": null,
   "id": "a6a7fd95",
   "metadata": {},
   "outputs": [],
   "source": [
    "MAIN_DIR = \"/my/main/dir\"\n",
    "\n",
    "def print_dir(sub_dir):\n",
    "    print(f\"{MAIN_DIR}/{sub_dir}\")\n",
    "\n",
    "print_dir(\"sub_dir\")"
   ]
  },
  {
   "cell_type": "markdown",
   "id": "bfccbd80",
   "metadata": {},
   "source": [
    "If there are two or more instances of a variable name within a scope, the innermost binding takes presedence and _masks_ the outermost instances: "
   ]
  },
  {
   "cell_type": "code",
   "execution_count": null,
   "id": "a2386148",
   "metadata": {},
   "outputs": [],
   "source": [
    "main_dir = \"/my/main/dir1\"\n",
    "\n",
    "def print_dir(sub_dir):\n",
    "    \"\"\" The local main_dir masks the global one above\"\"\"\n",
    "    main_dir = \"/my/main/dir2\"\n",
    "    print(f\"{main_dir}/{sub_dir}\")\n",
    "\n",
    "print_dir(\"sub_dir\")"
   ]
  },
  {
   "cell_type": "markdown",
   "id": "d88f264a",
   "metadata": {},
   "source": [
    "But since you should be using SCREAMING_SNAKE_CASE case for all of your global variables, this type of masking shouldn't really occur."
   ]
  }
 ],
 "metadata": {
  "kernelspec": {
   "display_name": "Python 3 (ipykernel)",
   "language": "python",
   "name": "python3"
  },
  "language_info": {
   "codemirror_mode": {
    "name": "ipython",
    "version": 3
   },
   "file_extension": ".py",
   "mimetype": "text/x-python",
   "name": "python",
   "nbconvert_exporter": "python",
   "pygments_lexer": "ipython3",
   "version": "3.9.13"
  }
 },
 "nbformat": 4,
 "nbformat_minor": 5
}

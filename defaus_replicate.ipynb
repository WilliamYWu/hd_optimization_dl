{
 "cells": [
  {
   "cell_type": "code",
   "execution_count": 126,
   "metadata": {},
   "outputs": [],
   "source": [
    "import numpy as np\n",
    "import pandas as pd\n",
    "import scipy"
   ]
  },
  {
   "cell_type": "code",
   "execution_count": 127,
   "metadata": {},
   "outputs": [],
   "source": [
    "import subprocess\n",
    "import threading\n",
    "import sys\n",
    "import os\n",
    "import pandas as pd"
   ]
  },
  {
   "cell_type": "code",
   "execution_count": 128,
   "metadata": {},
   "outputs": [],
   "source": [
    "mu = 1\n",
    "alpha = 0.75\n",
    "r = 0.02\n",
    "sigma = 2\n",
    "sigma_g = 2\n",
    "omega_c = 0.3\n",
    "pm = 1\n",
    "gamma = 0.43\n",
    "y_loss = 0.02\n",
    "phi = 0.18\n",
    "rho_a = 0.777\n",
    "sigma_a = 0.029\n",
    "mu_a = 0\n",
    "zt = 0\n",
    "tax_rate = 0.19\n",
    "gn_min = 0\n",
    "gn_max = 1 - 0.000001\n",
    "h_min = 0.000001\n",
    "h_max = 1\n",
    "width = 1.5\n",
    "ub = 1\n",
    "lamb = 0.184\n",
    "coup = 0.0\n",
    "pi_number = 3.1415926535897932\n",
    "kappa_val = 1000000\n",
    "beta_hh = 1/(1+r)\n",
    "chi_gn_hh = 0\n",
    "alpha_c = 0.7\n",
    "welfare_case = 0\n",
    "only_repay = 1\n",
    "tol = 0.000002\n",
    "weight_q = 1\n",
    "ns = 21\n",
    "nk = 1\n",
    "na = ns*nk\n",
    "nb = 251\n",
    "nn = 101\n",
    "nmc = 10000\n",
    "n0 = 1000\n",
    "nb2 = 501\n",
    "na2 = 21\n",
    "n_devs = 3\n",
    "\n",
    "nt = 9000\n",
    "nt2 = 32\n",
    "n_sam = 1000 \n",
    "nm = 100\n",
    "nf = 2    \n",
    "max_iter = 500\n",
    "n_iter_v = 15\n",
    "n_cdf = 70\n",
    "n_quad_v = 15\n",
    "n_eps = n_quad_v\n",
    "n_quad_q = 11\n",
    "save_results = 0\n",
    "choice_def_cost = 2\n",
    "choice_counter = 0\n",
    "choice_coup = 0\n",
    "choice_bound = 1\n",
    "choice_dist = 0\n",
    "choice_nog = 0\n",
    "choice_fe = 0\n",
    "choice_now_bar = 0  #for choice_nowbar=1 set wbar=0d0\n",
    "choice_correl = 0,\n",
    "choice_tax_hat = 0                             #=0 no tax_hat, =1 frictionless tax level\n",
    "choice_rule = 0                                #=0 use saved data, =1 use given coefficient for gN/yN\n",
    "nn_aux = choice_fe*nn+(1-choice_fe)*1\n",
    "export_data = 0              #=1 to export subsamples series\n",
    "choice_util_hh = 1           #to compute value fcn for HH\n",
    "choice_constant_gn = 1\n",
    "choice_ols = 0\n",
    "th_1 = -0.27982\n",
    "th_2 = -1.21\n",
    "min_gn = 0.045844\n",
    "scale = 1.01\n",
    "cdf_min = 3.167e-5\n",
    "cdf_max=1+0-3.167e-5\n",
    "huge_n=-1e6\n",
    "resp_coef_l1=0.16\n",
    "resp_coef_l2=0*0.4248\n",
    "resp_coef_l3=0*0.539928\n",
    "resp_coef_l4=0*(lamb+r)\n",
    "resp_coef_h1=0.16\n",
    "resp_coefh2=-0*0.297183\n",
    "resp_coefh3=-0*0.257716\n",
    "resp_coefh4=0*(lamb+r)\n",
    "resp_coef1=0.200627\n",
    "resp_coef2=-0.115658\n",
    "resp_coef3=-0.026376*(lamb+r)\n",
    "resp_coef4=0*(lamb+r)"
   ]
  },
  {
   "cell_type": "code",
   "execution_count": 129,
   "metadata": {},
   "outputs": [],
   "source": [
    "b_min = -0.41\n",
    "b_max = 0.35\n",
    "hh_u_cost = 1\n",
    "constant_gn_value = 0\n",
    "coef_yt = 0\n",
    "coef_bt = 0\n",
    "x_val = [0.907, 0.02, 0.0, 0.3772, 2.42, 3.068]\n",
    "dos = 2\n",
    "eps_min = -4 * sigma_a\n",
    "eps_max = 4 * sigma_a"
   ]
  },
  {
   "cell_type": "code",
   "execution_count": 130,
   "metadata": {},
   "outputs": [],
   "source": [
    "points_df = pd.read_csv(\"/if/research-gms/William/grid_points/eighth/hyperplane_points_grid.csv\")\n",
    "planes_df = pd.read_csv(\"/if/research-gms/William/grid_points/eighth/plane_functions_parameters.csv\")"
   ]
  },
  {
   "cell_type": "code",
   "execution_count": 131,
   "metadata": {},
   "outputs": [],
   "source": [
    "quad_x_v, quad_w_v = np.polynomial.legendre.leggauss(15)\n",
    "quad_x_q, quad_w_q = np.polynomial.legendre.leggauss(11)\n",
    "quad_x_hermite, quad_w_hermite = np.polynomial.hermite.hermgauss(15)"
   ]
  },
  {
   "cell_type": "code",
   "execution_count": 132,
   "metadata": {},
   "outputs": [],
   "source": [
    "un_cst_da = sigma_a / np.sqrt(1-rho_a**2)\n",
    "a_min = mu_a / (1-rho_a) - n_devs * un_cst_da\n",
    "a_max = mu_a / (1-rho_a) + n_devs * un_cst_da\n",
    "\n",
    "a_grid = [a_min + (i)/(ns-1) * (a_max-a_min) for i in range(ns)]\n",
    "gn_grid = [gn_min + (i)/(nn-1) * (gn_max-gn_min) for i in range(nn)]\n",
    "h_grid = [h_min + (i)/(nn-1) * (h_max-h_min) for i in range(nn)]\n",
    "cdf_grid = [cdf_min + (cdf_max-cdf_min) * (i)/(n_cdf-1) for i in range(n_cdf)]\n",
    "\n",
    "eps_grid = [np.sqrt(dos) * sigma_a * quad_x_hermite[i] for i in range(n_eps)]\n",
    "\n",
    "kw = omega_c / (1 - omega_c)\n",
    "payoff = 1\n",
    "if choice_coup == 1:\n",
    "    payoff = lamb+ (1-lamb)*coup\n",
    "\n",
    "default_grid = [0,1]\n",
    "f_tol = 1e-3\n",
    "xi = np.zeros((6, 6))\n",
    "xi = np.array([[1.0 if j == i else 0.0 for j in range(1, 7)] for i in range(1, 7)])\n"
   ]
  },
  {
   "attachments": {},
   "cell_type": "markdown",
   "metadata": {},
   "source": [
    "## Government Function"
   ]
  },
  {
   "cell_type": "code",
   "execution_count": 133,
   "metadata": {},
   "outputs": [],
   "source": [
    "# Compute bgrid\n",
    "b_grid = [b_min + (b_max - b_min) * (i)/(nb-1) for i in range(nb)]"
   ]
  },
  {
   "cell_type": "code",
   "execution_count": 134,
   "metadata": {},
   "outputs": [],
   "source": [
    "# Binary search algorithm - tested for below index 0 and above last index and it replicates LOCATE \n",
    "i0 = np.searchsorted(b_grid, 0, side=\"right\")\n",
    "b_grid[i0] = 0"
   ]
  },
  {
   "cell_type": "code",
   "execution_count": 135,
   "metadata": {},
   "outputs": [],
   "source": [
    "beta = x_val[0]\n",
    "chi = x_val[1]\n",
    "i_cost = x_val[2]\n",
    "psi_1 = x_val[3]\n",
    "psi_2 = x_val[4]\n",
    "w_bar = x_val[5]"
   ]
  },
  {
   "cell_type": "code",
   "execution_count": 136,
   "metadata": {},
   "outputs": [
    {
     "data": {
      "text/plain": [
       "0.0"
      ]
     },
     "execution_count": 136,
     "metadata": {},
     "output_type": "execute_result"
    }
   ],
   "source": [
    "v0_matrix = np.zeros((nb,na))\n",
    "v0_matrix[1,1]"
   ]
  },
  {
   "cell_type": "code",
   "execution_count": 154,
   "metadata": {},
   "outputs": [],
   "source": [
    "# INITIAL_GN\n",
    "# Initialize terminal node with default as risk-free debt environment\n",
    "q_matrix_nodef = np.zeros((na,nb))\n",
    "q_matrix_nodef[:,:] = payoff / (lamb + r)\n",
    "v0_matrix = np.zeros((nb,na))\n",
    "vaut_matrix = np.zeros((nb,na))-1e-4\n",
    "index_bfeas4=np.zeros(na)\n",
    "f_data = np.zeros(nb)\n",
    "break_matrix = np.zeros((na,nb))\n",
    "coeff_matrix = np.zeros((na,4,nb))\n",
    "# Compute spline for feasible debt gridpoints\n",
    "for i_a in range(na):\n",
    "    new_value=-1e5\n",
    "    i_b=0\n",
    "    index_opt = 0\n",
    "        \n",
    "    while new_value <= -1e3:\n",
    "        index_opt = i_b\n",
    "        if i_b == nb:\n",
    "            break\n",
    "        i_b = i_b+1\n",
    "        new_value = v0_matrix[i_b,i_a]\n",
    "    index_bfeas4[i_a]=index_opt   \n",
    "\n",
    "for i_a in range(na):\n",
    "    if index_bfeas4[i_a]+1 <= nb-1:\n",
    "        ii_b = int(index_bfeas4[i_a]) + 1\n",
    "        nbaux = nb - ii_b + 1\n",
    "        f_data[1:nbaux] = v0_matrix[ii_b:nb, i_a]\n",
    "\n",
    "        cs = scipy.interpolate.CubicSpline(\n",
    "            x=b_grid[ii_b:nb], \n",
    "            y=f_data[1:int(nbaux)],\n",
    "            bc_type = 'not-a-knot',\n",
    "            )\n",
    "        \n",
    "        break_matrix[i_a,ii_b:nb], coeff_matrix[i_a,:,ii_b:nb-1] = cs.x, cs.c\n",
    "\n",
    "for i_a in range(na):\n",
    "    f_data = q_matrix_nodef[:,i_a]"
   ]
  },
  {
   "cell_type": "code",
   "execution_count": 155,
   "metadata": {},
   "outputs": [
    {
     "data": {
      "text/plain": [
       "array([4.90196078, 4.90196078, 4.90196078, 4.90196078, 4.90196078,\n",
       "       4.90196078, 4.90196078, 4.90196078, 4.90196078, 4.90196078,\n",
       "       4.90196078, 4.90196078, 4.90196078, 4.90196078, 4.90196078,\n",
       "       4.90196078, 4.90196078, 4.90196078, 4.90196078, 4.90196078,\n",
       "       4.90196078])"
      ]
     },
     "execution_count": 155,
     "metadata": {},
     "output_type": "execute_result"
    }
   ],
   "source": [
    "f_data"
   ]
  },
  {
   "cell_type": "code",
   "execution_count": null,
   "metadata": {},
   "outputs": [],
   "source": [
    "for i_b in range(1,nb+1):\n",
    "    for i_a in range(1,na+1):\n",
    "        a_initial = agri"
   ]
  }
 ],
 "metadata": {
  "kernelspec": {
   "display_name": "Python 3",
   "language": "python",
   "name": "python3"
  },
  "language_info": {
   "codemirror_mode": {
    "name": "ipython",
    "version": 3
   },
   "file_extension": ".py",
   "mimetype": "text/x-python",
   "name": "python",
   "nbconvert_exporter": "python",
   "pygments_lexer": "ipython3",
   "version": "3.9.13"
  },
  "orig_nbformat": 4
 },
 "nbformat": 4,
 "nbformat_minor": 2
}

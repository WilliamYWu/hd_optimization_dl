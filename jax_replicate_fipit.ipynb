{
  "cells": [
    {
      "cell_type": "code",
      "execution_count": null,
      "metadata": {
        "id": "pERvbIEHkQpg"
      },
      "outputs": [],
      "source": [
        "import jax\n",
        "import jax.numpy as jnp\n",
        "import sys\n",
        "import decimal\n",
        "decimal.getcontext().prec = 5"
      ]
    },
    {
      "cell_type": "code",
      "execution_count": null,
      "metadata": {
        "id": "GbiKiD40kQph"
      },
      "outputs": [],
      "source": [
        "# Model Parameters\n",
        "R = 1.05\n",
        "BETA = 0.945\n",
        "RHO = 0.9\n",
        "STD_U = 0.010\n",
        "M = 1\n",
        "GAMMA_C = 1"
      ]
    },
    {
      "cell_type": "markdown",
      "metadata": {
        "id": "I2qK1BXBkQpi"
      },
      "source": [
        "## Functions"
      ]
    },
    {
      "cell_type": "code",
      "execution_count": null,
      "metadata": {
        "id": "2peksFRTkQpi"
      },
      "outputs": [],
      "source": [
        "def rowenhorst(rho, sigma_eps, n):\n",
        "    '''\n",
        "    rho : 1st order autocorrelation\n",
        "    sigma_eps : Standard Deviation of the error term\n",
        "    n : Number of points in the discrete approximation\n",
        "    '''\n",
        "    mu_eps = 0\n",
        "    q = (rho+1) / 2\n",
        "    nu = ((n-1)/(1-rho**2))**(1/2) * sigma_eps\n",
        "    # Might need the reshape for this to have the same shape as what we see in the matlab code.\n",
        "    z_grid = jnp.linspace(mu_eps/(1-rho)-nu, mu_eps/(1-rho)+nu,n).reshape(1,-1)\n",
        "    P = jnp.array(((q, 1-q), (1-q, q)))\n",
        "    for i in range (2,n):\n",
        "        P = q * jnp.pad(P, ((0,1),(0,1)), constant_values=0) + \\\n",
        "            q * jnp.pad(P, ((1,0),(1,0)), constant_values=0) + \\\n",
        "            (1-q) * jnp.pad(P, ((0,1),(1,0)), constant_values=0) + \\\n",
        "            (1-q) * jnp.pad(P, ((1,0),(0,1)), constant_values=0)\n",
        "        P = P.at[1,:].divide(2)\n",
        "\n",
        "    return z_grid, P"
      ]
    },
    {
      "cell_type": "code",
      "execution_count": null,
      "metadata": {
        "id": "3WZy-Tn7kQpj"
      },
      "outputs": [],
      "source": [
        "def all_inter_211(x1, x2, x1i, x2i, pf1):\n",
        "    '''\n",
        "    Linear interpolation/extrapolation (2 states, 1 policy, 1 stochastic comp)\n",
        "    x* : grid\n",
        "    x*i : point to evaluate\n",
        "    pf* : policy function\n",
        "    '''\n",
        "    # Grid lengths\n",
        "    nx1 = x1.shape[1]\n",
        "    nx2 = x2.shape[1]\n",
        "    # Number of Stochastic Realizations\n",
        "    x2i_pts = len(x2i)\n",
        "\n",
        "    # Preallocate Output\n",
        "    o1 = jnp.zeros((x2i_pts,1))\n",
        "    s1 = x1[0,1] - x1[0,0]\n",
        "    x1i_min = x1i - x1[0,0]\n",
        "    loc1 = int(min(nx1-1, max(1,jnp.floor(x1i_min/s1) + 1)))\n",
        "    for i2 in range(x2i_pts):\n",
        "        s2 = x2[0,1] - x2[0,0]\n",
        "        x2i_min = x2i[i2] - x2[0,0]\n",
        "        loc2 = int(min(nx2-1, max(1,jnp.floor(x2i_min/s2) + 1)))\n",
        "        xi = jnp.array((x1i, x2i[i2])).reshape(1,-1)\n",
        "        xi_left = jnp.array([x1[0,loc1-1], x2[0,loc2-1]]).reshape(1,-1)\n",
        "        xi_right = jnp.array((x1[0,loc1], x2[0,loc2])).reshape(1,-1)\n",
        "\n",
        "        w_2 = (xi - xi_left) / (xi_right - xi_left)\n",
        "        w_1 = 1 - w_2\n",
        "        w1 = jnp.array((w_1[0,0], w_2[0,0])).reshape(1,-1)\n",
        "        w2 = jnp.array((w_1[0,1], w_2[0,1])).reshape(1,-1)\n",
        "\n",
        "        for m2 in range(2):\n",
        "            for m1 in range(2):\n",
        "                o1 = o1.at[i2,0].set(o1[i2,0] + w1[0, m1] * w2[0, m2] * pf1[loc1 + m1 - 1, loc2 + m2 - 1])\n",
        "    return o1"
      ]
    },
    {
      "cell_type": "code",
      "execution_count": null,
      "metadata": {
        "id": "UlsuSTANkQpj"
      },
      "outputs": [],
      "source": [
        "def solve_fiPIT(b_in, p_in, z_in, b_dec, n_in):\n",
        "\n",
        "    std_u = n_in[0]\n",
        "    rho = n_in[1]\n",
        "    gamma_c = n_in[2]\n",
        "    r = n_in[3]\n",
        "    m = n_in[4]\n",
        "    bet = n_in[5]\n",
        "\n",
        "    nz, nb = b_dec.shape\n",
        "    b_min = b_in[0]\n",
        "    b_max = b_in[nb]\n",
        "    z_m, b_m = jnp.meshgrid(z_in,b_in)\n",
        "    c_dec = b_dec - r * b_m + z_m\n",
        "    int_ct_prime = jnp.zeros((nz, nb))\n",
        "    c_dec_new = jnp.zeros((nz, nb))\n",
        "    b_dec_new = jnp.zeros((nz, nb))\n",
        "\n",
        "    for iz in range(nz):\n",
        "        for ib in range(nb):\n",
        "            b_use = b_in[ib]\n",
        "            z_use = z_in[iz]\n",
        "            b_prime = b_dec[iz,ib]\n",
        "            c_use = z_use - r * b_use + z_use\n",
        "\n",
        "            if b_prime < b_min:\n",
        "                b_prime = b_min\n",
        "                c_use = b_prime - r * b_use + z_use\n",
        "\n",
        "            for iq in range(nz):\n",
        "                int_ct_prime[iq] = all_inter_211(\n",
        "                    x1 = b_in,\n",
        "                    x2 = z_in,\n",
        "                    x1i = b_dec[iz,ib],\n",
        "                    x2i = z_in[iq],\n",
        "                    pf1 = c_dec.T,\n",
        "                )\n",
        "\n",
        "                int_ct_prime[iq] = max(int_ct_prime[iq], 1e-20)^(-gamma_c)\n",
        "\n",
        "            sol_ct2 = p_in[iz,:] * int_ct_prime.T\n",
        "            c_dec_new[iz,ib] = (bet * r * sol_ct2)^(-1/gamma_c)\n",
        "            b_dec_new[iz,ib] = c_dec_new[iz,ib] - z_use + r * b_use\n",
        "\n",
        "            if b_dec_new[iz,ib] > M * z_use:\n",
        "                b_dec_new[iz,ib] = M * z_use\n",
        "\n",
        "    return b_dec_new"
      ]
    },
    {
      "cell_type": "code",
      "execution_count": null,
      "metadata": {
        "id": "bBR99nhNkQpj"
      },
      "outputs": [],
      "source": [
        "# Grid for Decision Rules and Integration Nodes\n",
        "nz = 11 # Income grid in terms of z=log(Y)\n",
        "nb = 200 # Grid points for debt\n",
        "\n",
        "# Rowenhorst Discretization\n",
        "log_y, p = rowenhorst(rho=RHO, sigma_eps=STD_U, n=nz)\n",
        "y_grid = jnp.exp(log_y)\n",
        "z_grid = log_y\n",
        "\n",
        "# Borrowing Grid\n",
        "b_min = 0.75 * M\n",
        "b_max = M * y_grid[0,-1]\n",
        "b_grid = jnp.linspace(b_min, b_max, nb).reshape(1,-1)\n",
        "\n",
        "# Initial guess\n",
        "y_m, b_m = jnp.meshgrid(jnp.ravel(y_grid),jnp.ravel(b_grid))\n",
        "y_m, b_m = y_m.T, b_m.T\n",
        "c_dec_old = jnp.maximum(1e-100, -R * b_m + (1 + M) * y_m)\n",
        "b_dec_old = c_dec_old + R * b_m - y_m\n",
        "b_dec_use = b_dec_old"
      ]
    },
    {
      "cell_type": "code",
      "execution_count": null,
      "metadata": {
        "colab": {
          "base_uri": "https://localhost:8080/",
          "height": 124
        },
        "id": "4gSMzsa_Oewz",
        "outputId": "23490fbe-8843-4aad-a9df-17e84f8348b5"
      },
      "outputs": [
        {
          "ename": "SystemExit",
          "evalue": "",
          "output_type": "error",
          "traceback": [
            "An exception has occurred, use %tb to see the full traceback.\n",
            "\u001b[0;31mSystemExit\u001b[0m\n"
          ]
        },
        {
          "name": "stderr",
          "output_type": "stream",
          "text": [
            "/usr/local/lib/python3.10/dist-packages/IPython/core/interactiveshell.py:3561: UserWarning: To exit: use 'exit', 'quit', or Ctrl-D.\n",
            "  warn(\"To exit: use 'exit', 'quit', or Ctrl-D.\", stacklevel=1)\n"
          ]
        }
      ],
      "source": [
        "count = 1\n",
        "dist = 100\n",
        "\n",
        "while dist > 1e-10:\n",
        "    # b_dec_up = solve_fiPIT(\n",
        "    #     b_in = b_grid,\n",
        "    #     p_in = p,\n",
        "    #     z_in = y_grid,\n",
        "    #     b_dec = b_dec_use,\n",
        "    #     n_in = jnp.array(((STD_U),(RHO),(GAMMA_C),(R),(M),(BETA)))\n",
        "    #     )\n",
        "    b_in = b_grid\n",
        "    p_in = p\n",
        "    z_in = y_grid\n",
        "    b_dec = b_dec_use\n",
        "    n_in = jnp.array(((STD_U),(RHO),(GAMMA_C),(R),(M),(BETA)))\n",
        "    std_u = n_in[0]\n",
        "    rho = n_in[1]\n",
        "    gamma_c = n_in[2]\n",
        "    r = n_in[3]\n",
        "    m = n_in[4]\n",
        "    bet = n_in[5]\n",
        "\n",
        "    nz, nb = b_dec.shape\n",
        "    b_min = b_in[0,0]\n",
        "    b_max = b_in[nb,nb]\n",
        "    z_m, b_m = jnp.meshgrid(jnp.ravel(z_in),jnp.ravel(b_in))\n",
        "    z_m, b_m = z_m.T, b_m.T\n",
        "    c_dec = b_dec - r * b_m + z_m\n",
        "    int_ct_prime = jnp.empty((1,nz))\n",
        "    c_dec_new = jnp.empty((nz, nb))\n",
        "    b_dec_new = jnp.empty((nz, nb))\n",
        "    for iz in range(nz):\n",
        "        for ib in range(nb):\n",
        "            b_use = b_in[0,ib]\n",
        "            z_use = z_in[0,iz]\n",
        "            b_prime = b_dec[iz,ib]\n",
        "            c_use = z_use - r * b_use + z_use\n",
        "\n",
        "            if b_prime < b_min:\n",
        "                b_prime = b_min\n",
        "                c_use = b_prime - r * b_use + z_use\n",
        "\n",
        "            for iq in range(nz):\n",
        "                o1 = all_inter_211(x1 = b_in,\n",
        "                    x2 = z_in,\n",
        "                    x1i = b_dec[iq,ib],\n",
        "                    x2i = [z_in[0,iq]],\n",
        "                    pf1 = c_dec.T,\n",
        "                )\n",
        "                int_ct_prime = int_ct_prime.at[0,iq].set(o1[0,0])\n",
        "                int_ct_prime = int_ct_prime.at[0,iq].set(max(int_ct_prime[0,iq], 1e-20)**(-gamma_c))\n",
        "            sol_ct2 = jnp.matmul(p_in[iz,:].reshape(1,-1),int_ct_prime.T)[0,0]\n",
        "            c_dec_new = c_dec_new.at[(iz,ib)].set((bet * r * sol_ct2)**(-1/gamma_c))\n",
        "            b_dec_new = b_dec_new.at[(iz,ib)].set(c_dec_new[iz,ib] - z_use + r * b_use)\n",
        "            if b_dec_new[iz,ib] > M * z_use:\n",
        "                b_dec_new = b_dec_new.at[(iz,ib)].set(M * z_use)\n",
        "    b_dec_new = b_dec_new * 0.25 + b_dec_use * (1-0.25)\n",
        "    dist = jnp.linalg.norm(abs(b_dec_new - b_dec_use))\n",
        "    if count%10 == 0:\n",
        "        print(f\"\\n {count}, dist = {dist:.4f}\")\n",
        "    b_dec_use = b_dec_new\n",
        "    count = count + 1\n",
        "    # b_dec_up = b_dec_new\n",
        "    # b_dec_new = b_dec_up * 0.25 + b_dec_use * (1-0.25)\n",
        "    # dist = jnp.linalg.norm(abs(b_dec_up - b_dec_use))\n",
        "    # if count%10 == 0:\n",
        "    #     print(f\"\\n {count}, dist = {dist:.4f}\")\n",
        "    # b_dec_use = b_dec_new\n",
        "    # count = count + 1"
      ]
    },
    {
      "cell_type": "code",
      "execution_count": null,
      "metadata": {
        "id": "uZtyAtI3kQpk"
      },
      "outputs": [],
      "source": [
        "# %%timeit -r 3 -n 3\n",
        "# Solve Model Time Iteration\n",
        "\n",
        "# Initial guess\n",
        "y_m, b_m = jnp.meshgrid(y_grid,b_grid)\n",
        "c_dec_old = jnp.maximum(1e-100, -R * b_m + (1 + M) * y_m)\n",
        "b_dec_old = c_dec_old + R * b_m - y_m\n",
        "b_dec_use = b_dec_old\n",
        "\n",
        "count = 1\n",
        "dist = 100\n",
        "\n",
        "while dist > 1e-10:\n",
        "    # b_dec_up = solve_fiPIT(\n",
        "    #     b_in = b_grid,\n",
        "    #     p_in = p,\n",
        "    #     z_in = y_grid,\n",
        "    #     b_dec = b_dec_use,\n",
        "    #     n_in = jnp.array(((STD_U),(RHO),(GAMMA_C),(R),(M),(BETA)))\n",
        "    #     )\n",
        "    b_in = b_grid\n",
        "    p_in = p\n",
        "    z_in = y_grid\n",
        "    b_dec = b_dec_use\n",
        "    n_in = jnp.array(((STD_U),(RHO),(GAMMA_C),(R),(M),(BETA)))\n",
        "    std_u = n_in[0]\n",
        "    rho = n_in[1]\n",
        "    gamma_c = n_in[2]\n",
        "    r = n_in[3]\n",
        "    m = n_in[4]\n",
        "    bet = n_in[5]\n",
        "\n",
        "    nz, nb = b_dec.shape\n",
        "    b_min = b_in[0]\n",
        "    b_max = b_in[nb]\n",
        "    z_m, b_m = jnp.meshgrid(z_in,b_in)\n",
        "    c_dec = b_dec - r * b_m + z_m\n",
        "    int_ct_prime = jnp.empty((nb,1))\n",
        "    c_dec_new = jnp.empty((nz, nb))\n",
        "    b_dec_new = jnp.empty((nz, nb))\n",
        "\n",
        "    for iz in range(nz):\n",
        "        for ib in range(nb):\n",
        "            b_use = b_in[ib]\n",
        "            z_use = z_in[iz]\n",
        "            b_prime = b_dec[iz,ib]\n",
        "            c_use = z_use - r * b_use + z_use\n",
        "\n",
        "            if b_prime < b_min:\n",
        "                b_prime = b_min\n",
        "                c_use = b_prime - r * b_use + z_use\n",
        "\n",
        "            for iq in range(nz):\n",
        "                # int_ct_prime[iq] = all_inter_211(\n",
        "                #     x1 = b_in,\n",
        "                #     x2 = z_in,\n",
        "                #     x1i = b_dec[iz,ib],\n",
        "                #     x2i = z_in[iq],\n",
        "                #     pf1 = c_dec.T,\n",
        "                # )\n",
        "                x1 = b_in\n",
        "                x2 = z_in\n",
        "                x1i = b_dec[iq,ib]\n",
        "                x2i = [z_in[iq]]\n",
        "                pf1 = c_dec.T\n",
        "\n",
        "                # Grid lengths\n",
        "                nx1 = len(x1)\n",
        "                nx2 = len(x2)\n",
        "\n",
        "                # Number of Stochastic Realizations\n",
        "                x2i_pts = len(x2i)\n",
        "\n",
        "                # Preallocate Output\n",
        "                o1 = jnp.zeros((x2i_pts,1))\n",
        "                s1 = x1[1] - x1[0]\n",
        "                x1i_min = x1i - x1[0]\n",
        "                loc1 = int(min(nx1-1, max(1,jnp.floor(x1i_min/s1) + 1)))\n",
        "\n",
        "                for i2 in range(x2i_pts):\n",
        "                    s2 = x2[1] - x2[0]\n",
        "                    x2i_min = x2i[i2] - x2[0]\n",
        "                    loc2 = int(min(nx2-1, max(1,jnp.floor(x2i_min/s2) + 1)))\n",
        "\n",
        "                    xi = jnp.array((x1i, x2i[i2]));\n",
        "                    xi_left = jnp.array([x1[loc1], x2[loc2]])\n",
        "                    xi_right = jnp.array((x1[loc1+1], x2[loc2+1]))\n",
        "\n",
        "                    w_2 = (xi - xi_left) / (xi_right - xi_left)\n",
        "                    w_1 = 1 - w_2\n",
        "                    w1 = jnp.array((w_1[0], w_2[1]))\n",
        "                    w2 = jnp.array((w_1[1], w_2[1]))\n",
        "\n",
        "                    for m2 in range(2):\n",
        "                        for m1 in range(2):\n",
        "                            o1 = o1.at[i2].set(o1[i2] + w1[m1 + 1] * w2[m2 + 1] * pf1[loc1 + m1, loc2 + m2])\n",
        "                int_ct_prime = o1\n",
        "                int_ct_prime = int_ct_prime.at[iq].set(max(int_ct_prime[iq], 1e-20)**(-gamma_c))\n",
        "            sol_ct2 = p_in[iz,:] * int_ct_prime.T\n",
        "\n",
        "            c_dec_new = c_dec_new.at[(iz,ib)].set((bet * r * sol_ct2)**(-1/gamma_c))\n",
        "            b_dec_new = b_dec_new.at[(iz,ib)].set(c_dec_new[iz,ib] - z_use + r * b_use)\n",
        "\n",
        "            if b_dec_new[iz,ib] > M * z_use:\n",
        "                b_dec_new[iz,ib] = M * z_use\n",
        "    b_dec_new = b_dec_up * 0.25 + b_dec_use * (1-0.25)\n",
        "    dist = jnp.linalg.norm(abs(b_dec_up - b_dec_use))\n",
        "    if count%10 == 0:\n",
        "        print(f\"\\n {count}, dist = {dist:.4f}\")\n",
        "    b_dec_use = b_dec_new\n",
        "    count = count + 1"
      ]
    },
    {
      "cell_type": "code",
      "execution_count": null,
      "metadata": {
        "id": "kBPZ_NOF_fxc"
      },
      "outputs": [],
      "source": [
        "o1"
      ]
    },
    {
      "cell_type": "code",
      "execution_count": null,
      "metadata": {
        "id": "sfED5teo6s4f"
      },
      "outputs": [],
      "source": [
        "print(p_in[iz,:])\n",
        "print(int_ct_prime.T)\n",
        "jnp.matmul(p_in[iz,:], int_ct_prime)"
      ]
    },
    {
      "cell_type": "code",
      "execution_count": null,
      "metadata": {
        "id": "xhdQQgSV87k-"
      },
      "outputs": [],
      "source": [
        "import decimal\n",
        "decimal.getcontext().prec = 10\n",
        "for i in int_ct_prime:\n",
        "    print(format(i[0], '.10f'))"
      ]
    },
    {
      "cell_type": "code",
      "execution_count": null,
      "metadata": {
        "id": "PN8yHoLJ1RYE"
      },
      "outputs": [],
      "source": [
        "o1 = jnp.empty((x2i_pts,1))\n",
        "for m2 in range(2):\n",
        "    for m1 in range(2):\n"
      ]
    },
    {
      "cell_type": "code",
      "execution_count": null,
      "metadata": {
        "id": "hqYtf5vYkQpk"
      },
      "outputs": [],
      "source": [
        "# Store decision rules\n",
        "kb_ti = b_dec_use\n",
        "kc_ti = kb_ti - R * b_m + y_m\n",
        "\n",
        "# Compute decision rule for multiplier\n",
        "b_dec = kb_ti\n",
        "c_dec = b_dec - R * b_m + y_m\n",
        "\n",
        "int_ct_prime = []\n",
        "l_dec = []\n",
        "for iz in range(nz):\n",
        "    for ib in range(nb):\n",
        "        b_use = b_grid[ib]\n",
        "        z_use = y_grid[iz]\n",
        "\n",
        "        b_prime = b_dec[iz,ib]\n",
        "        c_use = z_use - R * b_use + b_dec[iz,ib]\n",
        "\n",
        "        if b_prime < b_min:\n",
        "            b_prime = b_min\n",
        "            c_use = b_prime - R * b_use + z_use\n",
        "\n",
        "        for iq in range(nz):\n",
        "            int_ct_prime[iq] = all_inter_211(\n",
        "                x1 = b_grid,\n",
        "                x2 = y_grid,\n",
        "                x1i = b_dec[iz,ib],\n",
        "                x2i = y_grid[iq],\n",
        "                pf1 = c_dec.T,\n",
        "                )\n",
        "            int_ct_prime[iq] = max(int_ct_prime[iq], 1e-20)^(-GAMMA_C)\n",
        "\n",
        "        sol_ct2 = p[iz,:] * int_ct_prime.T\n",
        "        l_dec[iz,ib] = max(0, c_use^(-GAMMA_C) - (BETA*R*sol_ct2))"
      ]
    },
    {
      "cell_type": "code",
      "execution_count": null,
      "metadata": {},
      "outputs": [],
      "source": []
    }
  ],
  "metadata": {
    "colab": {
      "provenance": []
    },
    "kernelspec": {
      "display_name": "base",
      "language": "python",
      "name": "python3"
    },
    "language_info": {
      "codemirror_mode": {
        "name": "ipython",
        "version": 3
      },
      "file_extension": ".py",
      "mimetype": "text/x-python",
      "name": "python",
      "nbconvert_exporter": "python",
      "pygments_lexer": "ipython3",
      "version": "3.11.5"
    }
  },
  "nbformat": 4,
  "nbformat_minor": 0
}
